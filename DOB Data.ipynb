{
 "cells": [
  {
   "cell_type": "code",
   "execution_count": 2,
   "metadata": {},
   "outputs": [],
   "source": [
    "import pandas as pd\n",
    "import matplotlib.pyplot as plt\n",
    "import numpy as np"
   ]
  },
  {
   "cell_type": "code",
   "execution_count": 3,
   "metadata": {},
   "outputs": [],
   "source": [
    "import warnings\n",
    "warnings.filterwarnings('ignore')"
   ]
  },
  {
   "cell_type": "code",
   "execution_count": 4,
   "metadata": {},
   "outputs": [],
   "source": [
    "data = pd.read_csv (\"DOB_Permit_Issuance (1).csv\")"
   ]
  },
  {
   "cell_type": "code",
   "execution_count": 5,
   "metadata": {},
   "outputs": [],
   "source": [
    "data = data [['BOROUGH', 'House #' ,'Street Name','Job Type','Community Board' ,\n",
    "        'Zip Code','Bldg Type', 'Work Type', 'Permit Status', 'Filing Status',\n",
    "        'Permit Type','Filing Date','Issuance Date','Expiration Date', 'Job Start Date',\n",
    "        'LATITUDE','LONGITUDE', 'NTA_NAME']]"
   ]
  },
  {
   "cell_type": "code",
   "execution_count": 6,
   "metadata": {},
   "outputs": [
    {
     "data": {
      "text/html": [
       "<div>\n",
       "<style scoped>\n",
       "    .dataframe tbody tr th:only-of-type {\n",
       "        vertical-align: middle;\n",
       "    }\n",
       "\n",
       "    .dataframe tbody tr th {\n",
       "        vertical-align: top;\n",
       "    }\n",
       "\n",
       "    .dataframe thead th {\n",
       "        text-align: right;\n",
       "    }\n",
       "</style>\n",
       "<table border=\"1\" class=\"dataframe\">\n",
       "  <thead>\n",
       "    <tr style=\"text-align: right;\">\n",
       "      <th></th>\n",
       "      <th>BOROUGH</th>\n",
       "      <th>House #</th>\n",
       "      <th>Street Name</th>\n",
       "      <th>Job Type</th>\n",
       "      <th>Community Board</th>\n",
       "      <th>Zip Code</th>\n",
       "      <th>Bldg Type</th>\n",
       "      <th>Work Type</th>\n",
       "      <th>Permit Status</th>\n",
       "      <th>Filing Status</th>\n",
       "      <th>Permit Type</th>\n",
       "      <th>Filing Date</th>\n",
       "      <th>Issuance Date</th>\n",
       "      <th>Expiration Date</th>\n",
       "      <th>Job Start Date</th>\n",
       "      <th>LATITUDE</th>\n",
       "      <th>LONGITUDE</th>\n",
       "      <th>NTA_NAME</th>\n",
       "    </tr>\n",
       "  </thead>\n",
       "  <tbody>\n",
       "    <tr>\n",
       "      <td>0</td>\n",
       "      <td>BROOKLYN</td>\n",
       "      <td>62</td>\n",
       "      <td>HANSON PLACE</td>\n",
       "      <td>A1</td>\n",
       "      <td>302</td>\n",
       "      <td>11217.0</td>\n",
       "      <td>2.0</td>\n",
       "      <td>PL</td>\n",
       "      <td>ISSUED</td>\n",
       "      <td>RENEWAL</td>\n",
       "      <td>PL</td>\n",
       "      <td>01/23/2009 12:00:00 AM</td>\n",
       "      <td>01/23/2009 12:00:00 AM</td>\n",
       "      <td>01/23/2010 12:00:00 AM</td>\n",
       "      <td>01/16/2008 12:00:00 AM</td>\n",
       "      <td>40.685414</td>\n",
       "      <td>-73.975096</td>\n",
       "      <td>Fort Greene</td>\n",
       "    </tr>\n",
       "    <tr>\n",
       "      <td>1</td>\n",
       "      <td>MANHATTAN</td>\n",
       "      <td>40</td>\n",
       "      <td>WEST 38 STREET</td>\n",
       "      <td>A3</td>\n",
       "      <td>105</td>\n",
       "      <td>10018.0</td>\n",
       "      <td>2.0</td>\n",
       "      <td>EQ</td>\n",
       "      <td>IN PROCESS</td>\n",
       "      <td>INITIAL</td>\n",
       "      <td>EQ</td>\n",
       "      <td>03/17/2011 12:00:00 AM</td>\n",
       "      <td>NaN</td>\n",
       "      <td>NaN</td>\n",
       "      <td>03/17/2011 12:00:00 AM</td>\n",
       "      <td>40.751531</td>\n",
       "      <td>-73.984105</td>\n",
       "      <td>Midtown-Midtown South</td>\n",
       "    </tr>\n",
       "    <tr>\n",
       "      <td>2</td>\n",
       "      <td>MANHATTAN</td>\n",
       "      <td>56</td>\n",
       "      <td>EDGECOMBE AVENUE</td>\n",
       "      <td>A2</td>\n",
       "      <td>110</td>\n",
       "      <td>10030.0</td>\n",
       "      <td>2.0</td>\n",
       "      <td>OT</td>\n",
       "      <td>IN PROCESS</td>\n",
       "      <td>INITIAL</td>\n",
       "      <td>EW</td>\n",
       "      <td>11/21/2003 12:00:00 AM</td>\n",
       "      <td>NaN</td>\n",
       "      <td>NaN</td>\n",
       "      <td>11/21/2003 12:00:00 AM</td>\n",
       "      <td>40.818629</td>\n",
       "      <td>-73.946786</td>\n",
       "      <td>Central Harlem North-Polo Grounds</td>\n",
       "    </tr>\n",
       "    <tr>\n",
       "      <td>3</td>\n",
       "      <td>MANHATTAN</td>\n",
       "      <td>666</td>\n",
       "      <td>FIFTH AVENUE</td>\n",
       "      <td>A2</td>\n",
       "      <td>105</td>\n",
       "      <td>10103.0</td>\n",
       "      <td>2.0</td>\n",
       "      <td>SP</td>\n",
       "      <td>IN PROCESS</td>\n",
       "      <td>INITIAL</td>\n",
       "      <td>EW</td>\n",
       "      <td>09/07/2011 12:00:00 AM</td>\n",
       "      <td>NaN</td>\n",
       "      <td>NaN</td>\n",
       "      <td>09/07/2011 12:00:00 AM</td>\n",
       "      <td>40.760549</td>\n",
       "      <td>-73.976421</td>\n",
       "      <td>Midtown-Midtown South</td>\n",
       "    </tr>\n",
       "    <tr>\n",
       "      <td>4</td>\n",
       "      <td>BROOKLYN</td>\n",
       "      <td>6755</td>\n",
       "      <td>5 AVENUE</td>\n",
       "      <td>A2</td>\n",
       "      <td>310</td>\n",
       "      <td>11220.0</td>\n",
       "      <td>1.0</td>\n",
       "      <td>OT</td>\n",
       "      <td>IN PROCESS</td>\n",
       "      <td>INITIAL</td>\n",
       "      <td>EW</td>\n",
       "      <td>10/07/2002 12:00:00 AM</td>\n",
       "      <td>NaN</td>\n",
       "      <td>NaN</td>\n",
       "      <td>10/07/2002 12:00:00 AM</td>\n",
       "      <td>40.634515</td>\n",
       "      <td>-74.020573</td>\n",
       "      <td>Bay Ridge</td>\n",
       "    </tr>\n",
       "  </tbody>\n",
       "</table>\n",
       "</div>"
      ],
      "text/plain": [
       "     BOROUGH House #       Street Name Job Type Community Board  Zip Code  \\\n",
       "0   BROOKLYN      62      HANSON PLACE       A1             302   11217.0   \n",
       "1  MANHATTAN      40    WEST 38 STREET       A3             105   10018.0   \n",
       "2  MANHATTAN      56  EDGECOMBE AVENUE       A2             110   10030.0   \n",
       "3  MANHATTAN     666      FIFTH AVENUE       A2             105   10103.0   \n",
       "4   BROOKLYN    6755          5 AVENUE       A2             310   11220.0   \n",
       "\n",
       "   Bldg Type Work Type Permit Status Filing Status Permit Type  \\\n",
       "0        2.0        PL        ISSUED       RENEWAL          PL   \n",
       "1        2.0        EQ    IN PROCESS       INITIAL          EQ   \n",
       "2        2.0        OT    IN PROCESS       INITIAL          EW   \n",
       "3        2.0        SP    IN PROCESS       INITIAL          EW   \n",
       "4        1.0        OT    IN PROCESS       INITIAL          EW   \n",
       "\n",
       "              Filing Date           Issuance Date         Expiration Date  \\\n",
       "0  01/23/2009 12:00:00 AM  01/23/2009 12:00:00 AM  01/23/2010 12:00:00 AM   \n",
       "1  03/17/2011 12:00:00 AM                     NaN                     NaN   \n",
       "2  11/21/2003 12:00:00 AM                     NaN                     NaN   \n",
       "3  09/07/2011 12:00:00 AM                     NaN                     NaN   \n",
       "4  10/07/2002 12:00:00 AM                     NaN                     NaN   \n",
       "\n",
       "           Job Start Date   LATITUDE  LONGITUDE  \\\n",
       "0  01/16/2008 12:00:00 AM  40.685414 -73.975096   \n",
       "1  03/17/2011 12:00:00 AM  40.751531 -73.984105   \n",
       "2  11/21/2003 12:00:00 AM  40.818629 -73.946786   \n",
       "3  09/07/2011 12:00:00 AM  40.760549 -73.976421   \n",
       "4  10/07/2002 12:00:00 AM  40.634515 -74.020573   \n",
       "\n",
       "                            NTA_NAME  \n",
       "0                        Fort Greene  \n",
       "1              Midtown-Midtown South  \n",
       "2  Central Harlem North-Polo Grounds  \n",
       "3              Midtown-Midtown South  \n",
       "4                          Bay Ridge  "
      ]
     },
     "execution_count": 6,
     "metadata": {},
     "output_type": "execute_result"
    }
   ],
   "source": [
    "data.head()"
   ]
  },
  {
   "cell_type": "markdown",
   "metadata": {},
   "source": [
    "# Let's get just the new buildings:"
   ]
  },
  {
   "cell_type": "code",
   "execution_count": 7,
   "metadata": {},
   "outputs": [],
   "source": [
    "new_buildings_data = data [(data['Permit Type'] == 'NB') & (data['Permit Status'] == 'ISSUED')]\n"
   ]
  },
  {
   "cell_type": "code",
   "execution_count": 8,
   "metadata": {},
   "outputs": [],
   "source": [
    "import re\n",
    "\n",
    "year = [ ]\n",
    "month = [ ]\n",
    "for data in new_buildings_data ['Issuance Date']:\n",
    "    y = re.findall ('(\\d{4})', str (data))\n",
    "    m = re.findall ('^[\\d{2}]+', str (data))\n",
    "    year.append (y)\n",
    "    month.append (m)\n",
    "\n",
    "#Let’s now inserts this new data into a new column:\n",
    "\n",
    "new_buildings_data ['Issuance Year'] = year\n",
    "new_buildings_data ['Issuance Month'] = month\n",
    "\n",
    "new_buildings_data ['Issuance Year'] = new_buildings_data ['Issuance Year'].str[0]\n",
    "new_buildings_data ['Issuance Month'] = new_buildings_data ['Issuance Month'].str[0]\n"
   ]
  },
  {
   "cell_type": "code",
   "execution_count": 9,
   "metadata": {},
   "outputs": [],
   "source": [
    "try:\n",
    "    new_buildings_data ['Issuance Year'] = new_buildings_data ['Issuance Year'].astype(int)\n",
    "except ValueError:\n",
    "    new_buildings_data ['Issuance Year'] = new_buildings_data ['Issuance Year'].astype(None)"
   ]
  },
  {
   "cell_type": "code",
   "execution_count": 10,
   "metadata": {},
   "outputs": [],
   "source": [
    "new_buildings_since_2010 = new_buildings_data[new_buildings_data['Issuance Year'] >= 2010]"
   ]
  },
  {
   "cell_type": "markdown",
   "metadata": {},
   "source": [
    "# New Buildings in NYC since 2010:"
   ]
  },
  {
   "cell_type": "code",
   "execution_count": 11,
   "metadata": {},
   "outputs": [
    {
     "data": {
      "text/plain": [
       "<BarContainer object of 10 artists>"
      ]
     },
     "execution_count": 11,
     "metadata": {},
     "output_type": "execute_result"
    },
    {
     "data": {
      "image/png": "[encoded data removed]",
      "text/plain": [
       "<Figure size 432x288 with 1 Axes>"
      ]
     },
     "metadata": {
      "needs_background": "light"
     },
     "output_type": "display_data"
    }
   ],
   "source": [
    "\n",
    "new_buildings_since_2010_count = new_buildings_since_2010['Issuance Year'].value_counts()\n",
    "\n",
    "plt.bar (new_buildings_since_2010_count.index, new_buildings_since_2010_count.values, width = 0.8 ) \n"
   ]
  },
  {
   "cell_type": "markdown",
   "metadata": {},
   "source": [
    "# Divide data by borough:"
   ]
  },
  {
   "cell_type": "code",
   "execution_count": 12,
   "metadata": {},
   "outputs": [],
   "source": [
    "new_buildings_manhattan_since2010 = new_buildings_since_2010 [new_buildings_data ['BOROUGH'] == 'MANHATTAN']\n",
    "\n",
    "new_buildings_brooklyn_since2010= new_buildings_since_2010 [new_buildings_data ['BOROUGH'] == 'BROOKLYN']\n",
    "\n",
    "new_buildings_queens_since2010 = new_buildings_since_2010 [new_buildings_data['BOROUGH'] == 'QUEENS']\n",
    "\n",
    "new_buildings_bronx_since2010= new_buildings_since_2010 [new_buildings_data['BOROUGH'] == 'BRONX']\n",
    "\n",
    "new_buildings_si_since2010 = new_buildings_since_2010 [new_buildings_data['BOROUGH'] == 'STATEN ISLAND']"
   ]
  },
  {
   "cell_type": "code",
   "execution_count": 13,
   "metadata": {},
   "outputs": [],
   "source": [
    "number_new_buildings_manhattan_since2010= new_buildings_manhattan_since2010[\"Issuance Year\"].value_counts( )\n",
    "number_new_buildings_brooklyn_since2010= new_buildings_brooklyn_since2010[\"Issuance Year\"].value_counts( )\n",
    "number_new_buildings_queens_since2010 = new_buildings_queens_since2010[\"Issuance Year\"].value_counts( )\n",
    "number_new_buildings_bronx_since2010 = new_buildings_bronx_since2010[\"Issuance Year\"].value_counts( )\n",
    "number_new_buildings_si_since2010 = new_buildings_si_since2010[\"Issuance Year\"].value_counts()"
   ]
  },
  {
   "cell_type": "code",
   "execution_count": 14,
   "metadata": {
    "scrolled": true
   },
   "outputs": [
    {
     "data": {
      "image/png": "[encoded data removed]",
      "text/plain": [
       "<Figure size 864x576 with 5 Axes>"
      ]
     },
     "metadata": {
      "needs_background": "light"
     },
     "output_type": "display_data"
    }
   ],
   "source": [
    "fig, axs = plt.subplots(5, figsize=(12, 8))\n",
    "\n",
    "axs[0].bar(number_new_buildings_manhattan_since2010.index , number_new_buildings_manhattan_since2010.values)\n",
    "axs[0].set (title=\"Manhattan\")\n",
    "\n",
    "axs[1].bar(number_new_buildings_brooklyn_since2010.index,number_new_buildings_brooklyn_since2010.values)\n",
    "axs[1].set (title = \"Brooklyn\")\n",
    "\n",
    "axs[2].bar(number_new_buildings_queens_since2010.index,number_new_buildings_queens_since2010.values)\n",
    "axs[2].set (title = \"Queens\")\n",
    "\n",
    "axs[3].bar(number_new_buildings_bronx_since2010.index,number_new_buildings_bronx_since2010.values)\n",
    "axs[3].set (title = \"Bronx\")\n",
    "\n",
    "axs[4].bar(number_new_buildings_si_since2010.index,number_new_buildings_si_since2010.values)\n",
    "axs[4].set (title = \"Staten Island\")\n",
    "\n",
    "plt.subplots_adjust(top=0.92, bottom=0.08, left=0.10, right=0.95, hspace=0.70,\n",
    "                    wspace=0.70)\n"
   ]
  },
  {
   "cell_type": "markdown",
   "metadata": {},
   "source": [
    "# Divide the data into community districts:"
   ]
  },
  {
   "cell_type": "markdown",
   "metadata": {},
   "source": [
    "# Bronx:"
   ]
  },
  {
   "cell_type": "code",
   "execution_count": 15,
   "metadata": {},
   "outputs": [],
   "source": [
    "new_buildings_bronx_since_2010 = new_buildings_since_2010[new_buildings_since_2010['BOROUGH'] =='BRONX']\n",
    "\n",
    "bronx_community_districts =  new_buildings_bronx_since_2010['Community Board'].value_counts ( )"
   ]
  },
  {
   "cell_type": "code",
   "execution_count": 16,
   "metadata": {},
   "outputs": [],
   "source": [
    "bx_nb_since_2010_by_cb = [ ]\n",
    "for i in bronx_community_districts.index:\n",
    "    x = new_buildings_bronx_since_2010 [new_buildings_bronx_since_2010['Community Board']== i]\n",
    "    bx_nb_since_2010_by_cb.append (x)\n"
   ]
  },
  {
   "cell_type": "code",
   "execution_count": 17,
   "metadata": {},
   "outputs": [],
   "source": [
    "bx_cb12_nb_count = bx_nb_since_2010_by_cb[0][\"Issuance Year\"].value_counts()"
   ]
  },
  {
   "cell_type": "code",
   "execution_count": 18,
   "metadata": {},
   "outputs": [
    {
     "data": {
      "text/plain": [
       "2010.0    167\n",
       "2018.0    119\n",
       "2012.0    119\n",
       "2015.0    107\n",
       "2017.0    104\n",
       "2019.0     96\n",
       "2013.0     96\n",
       "2014.0     94\n",
       "2011.0     89\n",
       "2016.0     88\n",
       "Name: Issuance Year, dtype: int64"
      ]
     },
     "execution_count": 18,
     "metadata": {},
     "output_type": "execute_result"
    }
   ],
   "source": [
    "bx_cb12_nb_count"
   ]
  },
  {
   "cell_type": "code",
   "execution_count": 19,
   "metadata": {},
   "outputs": [],
   "source": [
    "bx_cb12_nb_count_avg = np.average (bx_cb12_nb_count )"
   ]
  },
  {
   "cell_type": "code",
   "execution_count": 20,
   "metadata": {},
   "outputs": [
    {
     "data": {
      "text/plain": [
       "107.9"
      ]
     },
     "execution_count": 20,
     "metadata": {},
     "output_type": "execute_result"
    }
   ],
   "source": [
    "#Since 2010, cb 12 in The Bronx had an average of 107.9 new buildings per year\n",
    "\n",
    "bx_cb12_nb_count_avg"
   ]
  },
  {
   "cell_type": "code",
   "execution_count": 21,
   "metadata": {},
   "outputs": [
    {
     "data": {
      "text/plain": [
       "8.991666666666667"
      ]
     },
     "execution_count": 21,
     "metadata": {},
     "output_type": "execute_result"
    }
   ],
   "source": [
    "# If I want to know the average number of new buildings per month:\n",
    "\n",
    "(1/12) * bx_cb12_nb_count_avg"
   ]
  },
  {
   "cell_type": "code",
   "execution_count": 22,
   "metadata": {},
   "outputs": [],
   "source": [
    "# If I want to know the probability that 10 buildings are built in 2 months:\n",
    "\n",
    "# First I need to find the average buildings of two month:\n",
    "\n",
    "bx_cb12_nb_2months_avg = (2/12) * bx_cb12_nb_count_avg\n",
    "\n"
   ]
  },
  {
   "cell_type": "code",
   "execution_count": null,
   "metadata": {},
   "outputs": [],
   "source": []
  },
  {
   "cell_type": "markdown",
   "metadata": {},
   "source": [
    "# New Buildings in The Bronx 2017 and 2018 to calculate geometric distr prob."
   ]
  },
  {
   "cell_type": "code",
   "execution_count": 23,
   "metadata": {},
   "outputs": [],
   "source": [
    "new_buildings_data_bronx  = new_buildings_data [new_buildings_data[\"BOROUGH\"]==\"BRONX\"]"
   ]
  },
  {
   "cell_type": "code",
   "execution_count": 24,
   "metadata": {},
   "outputs": [],
   "source": [
    "new_buildings_data_bx_017_018 = new_buildings_data_bronx [(new_buildings_data[\"Issuance Year\"]>= 2017) \n",
    "                                                    &(new_buildings_data[\"Issuance Year\"]<2019)]"
   ]
  },
  {
   "cell_type": "code",
   "execution_count": 25,
   "metadata": {},
   "outputs": [],
   "source": [
    "new_buildings_data_bx_017_018_counts = pd.Series(new_buildings_data_bx_017_018 [\"Community Board\"].\n",
    "                                                 astype(int).value_counts())\n",
    "\n",
    "new_buildings_data_bx_017_018_counts.iloc[0] = new_buildings_data_bx_017_018_counts.iloc[0] + 3\n",
    "\n",
    "new_buildings_data_bx_017_018_counts = new_buildings_data_bx_017_018_counts.drop (labels = [12])"
   ]
  },
  {
   "cell_type": "code",
   "execution_count": 26,
   "metadata": {},
   "outputs": [
    {
     "data": {
      "text/plain": [
       "212    231\n",
       "210    172\n",
       "201    158\n",
       "206    131\n",
       "209    129\n",
       "204    114\n",
       "207    103\n",
       "203     97\n",
       "208     90\n",
       "202     82\n",
       "211     73\n",
       "205     71\n",
       "Name: Community Board, dtype: int64"
      ]
     },
     "execution_count": 26,
     "metadata": {},
     "output_type": "execute_result"
    }
   ],
   "source": [
    "new_buildings_data_bx_017_018_counts"
   ]
  },
  {
   "cell_type": "code",
   "execution_count": 27,
   "metadata": {},
   "outputs": [],
   "source": [
    "avg_nb_cb12_017_018 = new_buildings_data_bx_017_018_counts[212] / sum (new_buildings_data_bx_017_018_counts)"
   ]
  },
  {
   "cell_type": "code",
   "execution_count": 28,
   "metadata": {},
   "outputs": [
    {
     "data": {
      "text/plain": [
       "'The total average of new buildings constructed in cb 12 in 2017 and 2017 was 0.15920055134390076'"
      ]
     },
     "execution_count": 28,
     "metadata": {},
     "output_type": "execute_result"
    }
   ],
   "source": [
    "\"The total average of new buildings constructed in cb 12 in 2017 and 2017 was \" + str (avg_nb_cb12_017_018)"
   ]
  },
  {
   "cell_type": "code",
   "execution_count": 29,
   "metadata": {},
   "outputs": [
    {
     "data": {
      "text/html": [
       "<div>\n",
       "<style scoped>\n",
       "    .dataframe tbody tr th:only-of-type {\n",
       "        vertical-align: middle;\n",
       "    }\n",
       "\n",
       "    .dataframe tbody tr th {\n",
       "        vertical-align: top;\n",
       "    }\n",
       "\n",
       "    .dataframe thead th {\n",
       "        text-align: right;\n",
       "    }\n",
       "</style>\n",
       "<table border=\"1\" class=\"dataframe\">\n",
       "  <thead>\n",
       "    <tr style=\"text-align: right;\">\n",
       "      <th></th>\n",
       "      <th>BOROUGH</th>\n",
       "      <th>House #</th>\n",
       "      <th>Street Name</th>\n",
       "      <th>Job Type</th>\n",
       "      <th>Community Board</th>\n",
       "      <th>Zip Code</th>\n",
       "      <th>Bldg Type</th>\n",
       "      <th>Work Type</th>\n",
       "      <th>Permit Status</th>\n",
       "      <th>Filing Status</th>\n",
       "      <th>Permit Type</th>\n",
       "      <th>Filing Date</th>\n",
       "      <th>Issuance Date</th>\n",
       "      <th>Expiration Date</th>\n",
       "      <th>Job Start Date</th>\n",
       "      <th>LATITUDE</th>\n",
       "      <th>LONGITUDE</th>\n",
       "      <th>NTA_NAME</th>\n",
       "      <th>Issuance Year</th>\n",
       "      <th>Issuance Month</th>\n",
       "    </tr>\n",
       "  </thead>\n",
       "  <tbody>\n",
       "    <tr>\n",
       "      <td>535</td>\n",
       "      <td>BRONX</td>\n",
       "      <td>1633</td>\n",
       "      <td>MACE AVENUE</td>\n",
       "      <td>NB</td>\n",
       "      <td>211</td>\n",
       "      <td>10469.0</td>\n",
       "      <td>2.0</td>\n",
       "      <td>NaN</td>\n",
       "      <td>ISSUED</td>\n",
       "      <td>INITIAL</td>\n",
       "      <td>NB</td>\n",
       "      <td>10/25/2002 12:00:00 AM</td>\n",
       "      <td>10/25/2002 12:00:00 AM</td>\n",
       "      <td>10/25/2003 12:00:00 AM</td>\n",
       "      <td>10/25/2002 12:00:00 AM</td>\n",
       "      <td>40.862682</td>\n",
       "      <td>-73.838582</td>\n",
       "      <td>Allerton-Pelham Gardens</td>\n",
       "      <td>2002.0</td>\n",
       "      <td>10</td>\n",
       "    </tr>\n",
       "    <tr>\n",
       "      <td>684</td>\n",
       "      <td>BRONX</td>\n",
       "      <td>953</td>\n",
       "      <td>TILDEN ST</td>\n",
       "      <td>NB</td>\n",
       "      <td>212</td>\n",
       "      <td>10469.0</td>\n",
       "      <td>1.0</td>\n",
       "      <td>NaN</td>\n",
       "      <td>ISSUED</td>\n",
       "      <td>INITIAL</td>\n",
       "      <td>NB</td>\n",
       "      <td>03/27/2019 12:00:00 AM</td>\n",
       "      <td>03/27/2019 12:00:00 AM</td>\n",
       "      <td>09/27/2019 12:00:00 AM</td>\n",
       "      <td>03/27/2019 12:00:00 AM</td>\n",
       "      <td>40.876824</td>\n",
       "      <td>-73.858139</td>\n",
       "      <td>Williamsbridge-Olinville</td>\n",
       "      <td>2019.0</td>\n",
       "      <td>03</td>\n",
       "    </tr>\n",
       "    <tr>\n",
       "      <td>2421</td>\n",
       "      <td>BRONX</td>\n",
       "      <td>963</td>\n",
       "      <td>BRADY AVENUE</td>\n",
       "      <td>NB</td>\n",
       "      <td>211</td>\n",
       "      <td>10462.0</td>\n",
       "      <td>1.0</td>\n",
       "      <td>NaN</td>\n",
       "      <td>ISSUED</td>\n",
       "      <td>INITIAL</td>\n",
       "      <td>NB</td>\n",
       "      <td>11/17/2016 12:00:00 AM</td>\n",
       "      <td>11/17/2016 12:00:00 AM</td>\n",
       "      <td>05/18/2017 12:00:00 AM</td>\n",
       "      <td>11/17/2016 12:00:00 AM</td>\n",
       "      <td>40.852292</td>\n",
       "      <td>-73.860816</td>\n",
       "      <td>Pelham Parkway</td>\n",
       "      <td>2016.0</td>\n",
       "      <td>11</td>\n",
       "    </tr>\n",
       "    <tr>\n",
       "      <td>3231</td>\n",
       "      <td>BRONX</td>\n",
       "      <td>2061</td>\n",
       "      <td>NARRAGANSETT AVE.</td>\n",
       "      <td>NB</td>\n",
       "      <td>211</td>\n",
       "      <td>10461.0</td>\n",
       "      <td>1.0</td>\n",
       "      <td>NaN</td>\n",
       "      <td>ISSUED</td>\n",
       "      <td>RENEWAL</td>\n",
       "      <td>NB</td>\n",
       "      <td>08/10/2017 12:00:00 AM</td>\n",
       "      <td>08/10/2017 12:00:00 AM</td>\n",
       "      <td>08/10/2018 12:00:00 AM</td>\n",
       "      <td>03/08/2017 12:00:00 AM</td>\n",
       "      <td>40.856488</td>\n",
       "      <td>-73.851513</td>\n",
       "      <td>Pelham Parkway</td>\n",
       "      <td>2017.0</td>\n",
       "      <td>08</td>\n",
       "    </tr>\n",
       "    <tr>\n",
       "      <td>4084</td>\n",
       "      <td>BRONX</td>\n",
       "      <td>830</td>\n",
       "      <td>FOX STREET</td>\n",
       "      <td>NB</td>\n",
       "      <td>202</td>\n",
       "      <td>10459.0</td>\n",
       "      <td>2.0</td>\n",
       "      <td>NaN</td>\n",
       "      <td>ISSUED</td>\n",
       "      <td>RENEWAL</td>\n",
       "      <td>NB</td>\n",
       "      <td>10/26/2007 12:00:00 AM</td>\n",
       "      <td>10/31/2007 12:00:00 AM</td>\n",
       "      <td>10/31/2008 12:00:00 AM</td>\n",
       "      <td>09/25/2006 12:00:00 AM</td>\n",
       "      <td>40.817576</td>\n",
       "      <td>-73.896232</td>\n",
       "      <td>Hunts Point</td>\n",
       "      <td>2007.0</td>\n",
       "      <td>10</td>\n",
       "    </tr>\n",
       "    <tr>\n",
       "      <td>...</td>\n",
       "      <td>...</td>\n",
       "      <td>...</td>\n",
       "      <td>...</td>\n",
       "      <td>...</td>\n",
       "      <td>...</td>\n",
       "      <td>...</td>\n",
       "      <td>...</td>\n",
       "      <td>...</td>\n",
       "      <td>...</td>\n",
       "      <td>...</td>\n",
       "      <td>...</td>\n",
       "      <td>...</td>\n",
       "      <td>...</td>\n",
       "      <td>...</td>\n",
       "      <td>...</td>\n",
       "      <td>...</td>\n",
       "      <td>...</td>\n",
       "      <td>...</td>\n",
       "      <td>...</td>\n",
       "      <td>...</td>\n",
       "    </tr>\n",
       "    <tr>\n",
       "      <td>3598860</td>\n",
       "      <td>BRONX</td>\n",
       "      <td>1193</td>\n",
       "      <td>FULTON AVENUE</td>\n",
       "      <td>NB</td>\n",
       "      <td>203</td>\n",
       "      <td>10456.0</td>\n",
       "      <td>2.0</td>\n",
       "      <td>NaN</td>\n",
       "      <td>ISSUED</td>\n",
       "      <td>RENEWAL</td>\n",
       "      <td>NB</td>\n",
       "      <td>04/09/2018 12:00:00 AM</td>\n",
       "      <td>04/09/2018 12:00:00 AM</td>\n",
       "      <td>04/08/2019 12:00:00 AM</td>\n",
       "      <td>10/27/2017 12:00:00 AM</td>\n",
       "      <td>40.829992</td>\n",
       "      <td>-73.904943</td>\n",
       "      <td>Claremont-Bathgate</td>\n",
       "      <td>2018.0</td>\n",
       "      <td>04</td>\n",
       "    </tr>\n",
       "    <tr>\n",
       "      <td>3598870</td>\n",
       "      <td>BRONX</td>\n",
       "      <td>1193</td>\n",
       "      <td>FULTON AVENUE</td>\n",
       "      <td>NB</td>\n",
       "      <td>203</td>\n",
       "      <td>10456.0</td>\n",
       "      <td>2.0</td>\n",
       "      <td>NaN</td>\n",
       "      <td>ISSUED</td>\n",
       "      <td>RENEWAL</td>\n",
       "      <td>NB</td>\n",
       "      <td>04/08/2019 12:00:00 AM</td>\n",
       "      <td>04/08/2019 12:00:00 AM</td>\n",
       "      <td>04/07/2020 12:00:00 AM</td>\n",
       "      <td>10/27/2017 12:00:00 AM</td>\n",
       "      <td>40.829992</td>\n",
       "      <td>-73.904943</td>\n",
       "      <td>Claremont-Bathgate</td>\n",
       "      <td>2019.0</td>\n",
       "      <td>04</td>\n",
       "    </tr>\n",
       "    <tr>\n",
       "      <td>3599216</td>\n",
       "      <td>BRONX</td>\n",
       "      <td>1225</td>\n",
       "      <td>UNION AVE</td>\n",
       "      <td>NB</td>\n",
       "      <td>203</td>\n",
       "      <td>10459.0</td>\n",
       "      <td>2.0</td>\n",
       "      <td>NaN</td>\n",
       "      <td>ISSUED</td>\n",
       "      <td>RENEWAL</td>\n",
       "      <td>NB</td>\n",
       "      <td>10/21/2019 12:00:00 AM</td>\n",
       "      <td>10/21/2019 12:00:00 AM</td>\n",
       "      <td>10/20/2020 12:00:00 AM</td>\n",
       "      <td>10/17/2018 12:00:00 AM</td>\n",
       "      <td>40.829389</td>\n",
       "      <td>-73.899105</td>\n",
       "      <td>Morrisania-Melrose</td>\n",
       "      <td>2019.0</td>\n",
       "      <td>10</td>\n",
       "    </tr>\n",
       "    <tr>\n",
       "      <td>3599356</td>\n",
       "      <td>BRONX</td>\n",
       "      <td>268</td>\n",
       "      <td>WEST 261ST STREET</td>\n",
       "      <td>NB</td>\n",
       "      <td>208</td>\n",
       "      <td>10471.0</td>\n",
       "      <td>1.0</td>\n",
       "      <td>NaN</td>\n",
       "      <td>ISSUED</td>\n",
       "      <td>INITIAL</td>\n",
       "      <td>NB</td>\n",
       "      <td>10/22/2019 12:00:00 AM</td>\n",
       "      <td>10/22/2019 12:00:00 AM</td>\n",
       "      <td>10/10/2020 12:00:00 AM</td>\n",
       "      <td>10/22/2019 12:00:00 AM</td>\n",
       "      <td>40.909605</td>\n",
       "      <td>-73.898097</td>\n",
       "      <td>North Riverdale-Fieldston-Riverdale</td>\n",
       "      <td>2019.0</td>\n",
       "      <td>10</td>\n",
       "    </tr>\n",
       "    <tr>\n",
       "      <td>3599865</td>\n",
       "      <td>BRONX</td>\n",
       "      <td>2720</td>\n",
       "      <td>CLAFLIN AVENUE</td>\n",
       "      <td>NB</td>\n",
       "      <td>208</td>\n",
       "      <td>10468.0</td>\n",
       "      <td>2.0</td>\n",
       "      <td>NaN</td>\n",
       "      <td>ISSUED</td>\n",
       "      <td>RENEWAL</td>\n",
       "      <td>NB</td>\n",
       "      <td>10/21/2019 12:00:00 AM</td>\n",
       "      <td>10/22/2019 12:00:00 AM</td>\n",
       "      <td>01/12/2020 12:00:00 AM</td>\n",
       "      <td>09/13/2019 12:00:00 AM</td>\n",
       "      <td>40.869694</td>\n",
       "      <td>-73.901007</td>\n",
       "      <td>Van Cortlandt Village</td>\n",
       "      <td>2019.0</td>\n",
       "      <td>10</td>\n",
       "    </tr>\n",
       "  </tbody>\n",
       "</table>\n",
       "<p>31289 rows × 20 columns</p>\n",
       "</div>"
      ],
      "text/plain": [
       "        BOROUGH House #        Street Name Job Type Community Board  Zip Code  \\\n",
       "535       BRONX    1633        MACE AVENUE       NB             211   10469.0   \n",
       "684       BRONX     953          TILDEN ST       NB             212   10469.0   \n",
       "2421      BRONX     963       BRADY AVENUE       NB             211   10462.0   \n",
       "3231      BRONX    2061  NARRAGANSETT AVE.       NB             211   10461.0   \n",
       "4084      BRONX     830         FOX STREET       NB             202   10459.0   \n",
       "...         ...     ...                ...      ...             ...       ...   \n",
       "3598860   BRONX    1193      FULTON AVENUE       NB             203   10456.0   \n",
       "3598870   BRONX    1193      FULTON AVENUE       NB             203   10456.0   \n",
       "3599216   BRONX    1225          UNION AVE       NB             203   10459.0   \n",
       "3599356   BRONX     268  WEST 261ST STREET       NB             208   10471.0   \n",
       "3599865   BRONX    2720     CLAFLIN AVENUE       NB             208   10468.0   \n",
       "\n",
       "         Bldg Type Work Type Permit Status Filing Status Permit Type  \\\n",
       "535            2.0       NaN        ISSUED       INITIAL          NB   \n",
       "684            1.0       NaN        ISSUED       INITIAL          NB   \n",
       "2421           1.0       NaN        ISSUED       INITIAL          NB   \n",
       "3231           1.0       NaN        ISSUED       RENEWAL          NB   \n",
       "4084           2.0       NaN        ISSUED       RENEWAL          NB   \n",
       "...            ...       ...           ...           ...         ...   \n",
       "3598860        2.0       NaN        ISSUED       RENEWAL          NB   \n",
       "3598870        2.0       NaN        ISSUED       RENEWAL          NB   \n",
       "3599216        2.0       NaN        ISSUED       RENEWAL          NB   \n",
       "3599356        1.0       NaN        ISSUED       INITIAL          NB   \n",
       "3599865        2.0       NaN        ISSUED       RENEWAL          NB   \n",
       "\n",
       "                    Filing Date           Issuance Date  \\\n",
       "535      10/25/2002 12:00:00 AM  10/25/2002 12:00:00 AM   \n",
       "684      03/27/2019 12:00:00 AM  03/27/2019 12:00:00 AM   \n",
       "2421     11/17/2016 12:00:00 AM  11/17/2016 12:00:00 AM   \n",
       "3231     08/10/2017 12:00:00 AM  08/10/2017 12:00:00 AM   \n",
       "4084     10/26/2007 12:00:00 AM  10/31/2007 12:00:00 AM   \n",
       "...                         ...                     ...   \n",
       "3598860  04/09/2018 12:00:00 AM  04/09/2018 12:00:00 AM   \n",
       "3598870  04/08/2019 12:00:00 AM  04/08/2019 12:00:00 AM   \n",
       "3599216  10/21/2019 12:00:00 AM  10/21/2019 12:00:00 AM   \n",
       "3599356  10/22/2019 12:00:00 AM  10/22/2019 12:00:00 AM   \n",
       "3599865  10/21/2019 12:00:00 AM  10/22/2019 12:00:00 AM   \n",
       "\n",
       "                Expiration Date          Job Start Date   LATITUDE  LONGITUDE  \\\n",
       "535      10/25/2003 12:00:00 AM  10/25/2002 12:00:00 AM  40.862682 -73.838582   \n",
       "684      09/27/2019 12:00:00 AM  03/27/2019 12:00:00 AM  40.876824 -73.858139   \n",
       "2421     05/18/2017 12:00:00 AM  11/17/2016 12:00:00 AM  40.852292 -73.860816   \n",
       "3231     08/10/2018 12:00:00 AM  03/08/2017 12:00:00 AM  40.856488 -73.851513   \n",
       "4084     10/31/2008 12:00:00 AM  09/25/2006 12:00:00 AM  40.817576 -73.896232   \n",
       "...                         ...                     ...        ...        ...   \n",
       "3598860  04/08/2019 12:00:00 AM  10/27/2017 12:00:00 AM  40.829992 -73.904943   \n",
       "3598870  04/07/2020 12:00:00 AM  10/27/2017 12:00:00 AM  40.829992 -73.904943   \n",
       "3599216  10/20/2020 12:00:00 AM  10/17/2018 12:00:00 AM  40.829389 -73.899105   \n",
       "3599356  10/10/2020 12:00:00 AM  10/22/2019 12:00:00 AM  40.909605 -73.898097   \n",
       "3599865  01/12/2020 12:00:00 AM  09/13/2019 12:00:00 AM  40.869694 -73.901007   \n",
       "\n",
       "                                    NTA_NAME  Issuance Year Issuance Month  \n",
       "535                  Allerton-Pelham Gardens         2002.0             10  \n",
       "684                 Williamsbridge-Olinville         2019.0             03  \n",
       "2421                          Pelham Parkway         2016.0             11  \n",
       "3231                          Pelham Parkway         2017.0             08  \n",
       "4084                             Hunts Point         2007.0             10  \n",
       "...                                      ...            ...            ...  \n",
       "3598860                   Claremont-Bathgate         2018.0             04  \n",
       "3598870                   Claremont-Bathgate         2019.0             04  \n",
       "3599216                   Morrisania-Melrose         2019.0             10  \n",
       "3599356  North Riverdale-Fieldston-Riverdale         2019.0             10  \n",
       "3599865                Van Cortlandt Village         2019.0             10  \n",
       "\n",
       "[31289 rows x 20 columns]"
      ]
     },
     "execution_count": 29,
     "metadata": {},
     "output_type": "execute_result"
    }
   ],
   "source": [
    "new_buildings_data_bronx"
   ]
  },
  {
   "cell_type": "code",
   "execution_count": 30,
   "metadata": {},
   "outputs": [
    {
     "data": {
      "text/plain": [
       "2006.0    2724\n",
       "2007.0    2370\n",
       "2005.0    2346\n",
       "2004.0    1913\n",
       "2008.0    1520\n",
       "2003.0    1490\n",
       "2002.0    1431\n",
       "2001.0    1312\n",
       "2009.0    1301\n",
       "1992.0    1273\n",
       "2000.0    1099\n",
       "1993.0    1066\n",
       "1994.0     780\n",
       "1996.0     765\n",
       "1998.0     764\n",
       "1991.0     759\n",
       "2010.0     752\n",
       "2018.0     740\n",
       "1999.0     729\n",
       "1995.0     717\n",
       "2017.0     711\n",
       "1997.0     646\n",
       "2015.0     637\n",
       "2019.0     619\n",
       "2016.0     588\n",
       "2014.0     577\n",
       "2012.0     515\n",
       "2013.0     502\n",
       "2011.0     460\n",
       "1990.0     182\n",
       "Name: Issuance Year, dtype: int64"
      ]
     },
     "execution_count": 30,
     "metadata": {},
     "output_type": "execute_result"
    }
   ],
   "source": [
    "new_buildings_data_bronx[\"Issuance Year\"].value_counts()"
   ]
  },
  {
   "cell_type": "code",
   "execution_count": 31,
   "metadata": {},
   "outputs": [],
   "source": [
    "data_by_year_and_month = new_buildings_data_bronx.groupby(\"Issuance Year\")[\"Issuance Month\"].value_counts().sort_index()"
   ]
  },
  {
   "cell_type": "code",
   "execution_count": 32,
   "metadata": {},
   "outputs": [],
   "source": [
    "pd.set_option('display.max_rows', None) "
   ]
  },
  {
   "cell_type": "code",
   "execution_count": 33,
   "metadata": {},
   "outputs": [
    {
     "data": {
      "text/plain": [
       "Issuance Year  Issuance Month\n",
       "1990.0         03                  2\n",
       "               04                  6\n",
       "               05                  5\n",
       "               06                 16\n",
       "               07                 43\n",
       "               08                  5\n",
       "               09                 27\n",
       "               10                  9\n",
       "               11                 50\n",
       "               12                 19\n",
       "1991.0         01                 22\n",
       "               02                 26\n",
       "               03                 26\n",
       "               04                 69\n",
       "               05                 75\n",
       "               06                 34\n",
       "               07                 32\n",
       "               08                 86\n",
       "               09                 55\n",
       "               10                 14\n",
       "               11                233\n",
       "               12                 87\n",
       "1992.0         01                160\n",
       "               02                138\n",
       "               03                124\n",
       "               04                 50\n",
       "               05                 38\n",
       "               06                 62\n",
       "               07                226\n",
       "               08                 78\n",
       "               09                 25\n",
       "               10                131\n",
       "               11                131\n",
       "               12                110\n",
       "1993.0         01                103\n",
       "               02                136\n",
       "               03                 18\n",
       "               04                 29\n",
       "               05                 30\n",
       "               06                 15\n",
       "               07                 82\n",
       "               08                 45\n",
       "               09                105\n",
       "               10                 67\n",
       "               11                307\n",
       "               12                129\n",
       "1994.0         01                 14\n",
       "               02                 43\n",
       "               03                181\n",
       "               04                 56\n",
       "               05                 17\n",
       "               06                 30\n",
       "               07                 94\n",
       "               08                 41\n",
       "               09                 37\n",
       "               10                 30\n",
       "               11                142\n",
       "               12                 95\n",
       "1995.0         01                 79\n",
       "               02                 27\n",
       "               03                 38\n",
       "               04                153\n",
       "               05                 36\n",
       "               06                 12\n",
       "               07                 63\n",
       "               08                 73\n",
       "               09                 38\n",
       "               10                 38\n",
       "               11                150\n",
       "               12                 10\n",
       "1996.0         01                119\n",
       "               02                  8\n",
       "               03                 14\n",
       "               04                 91\n",
       "               05                117\n",
       "               06                 96\n",
       "               07                 82\n",
       "               08                 14\n",
       "               09                 34\n",
       "               10                 97\n",
       "               11                 76\n",
       "               12                 17\n",
       "1997.0         01                 69\n",
       "               02                 10\n",
       "               03                 45\n",
       "               04                 62\n",
       "               05                  3\n",
       "               06                 37\n",
       "               07                134\n",
       "               08                 12\n",
       "               09                 46\n",
       "               10                 92\n",
       "               11                 48\n",
       "               12                 88\n",
       "1998.0         01                 50\n",
       "               02                 51\n",
       "               03                 32\n",
       "               04                 43\n",
       "               05                 25\n",
       "               06                113\n",
       "               07                 87\n",
       "               08                 93\n",
       "               09                 54\n",
       "               10                 43\n",
       "               11                 88\n",
       "               12                 85\n",
       "1999.0         01                 46\n",
       "               02                 30\n",
       "               03                 32\n",
       "               04                 34\n",
       "               05                 77\n",
       "               06                 49\n",
       "               07                163\n",
       "               08                 76\n",
       "               09                 38\n",
       "               10                 29\n",
       "               11                 85\n",
       "               12                 70\n",
       "2000.0         01                101\n",
       "               02                157\n",
       "               03                 66\n",
       "               04                 67\n",
       "               05                 44\n",
       "               06                156\n",
       "               07                 62\n",
       "               08                 80\n",
       "               09                 48\n",
       "               10                 70\n",
       "               11                 96\n",
       "               12                152\n",
       "2001.0         01                 30\n",
       "               02                143\n",
       "               03                 81\n",
       "               04                100\n",
       "               05                 94\n",
       "               06                230\n",
       "               07                 79\n",
       "               08                102\n",
       "               09                 28\n",
       "               10                139\n",
       "               11                118\n",
       "               12                168\n",
       "2002.0         01                 60\n",
       "               02                116\n",
       "               03                113\n",
       "               04                 90\n",
       "               05                144\n",
       "               06                213\n",
       "               07                130\n",
       "               08                127\n",
       "               09                 78\n",
       "               10                146\n",
       "               11                 70\n",
       "               12                144\n",
       "2003.0         01                 84\n",
       "               02                103\n",
       "               03                177\n",
       "               04                136\n",
       "               05                168\n",
       "               06                 87\n",
       "               07                145\n",
       "               08                138\n",
       "               09                178\n",
       "               10                132\n",
       "               11                 83\n",
       "               12                 59\n",
       "2004.0         01                 95\n",
       "               02                102\n",
       "               03                143\n",
       "               04                 89\n",
       "               05                167\n",
       "               06                169\n",
       "               07                332\n",
       "               08                263\n",
       "               09                178\n",
       "               10                164\n",
       "               11                120\n",
       "               12                 91\n",
       "2005.0         01                180\n",
       "               02                 97\n",
       "               03                216\n",
       "               04                181\n",
       "               05                205\n",
       "               06                205\n",
       "               07                332\n",
       "               08                195\n",
       "               09                198\n",
       "               10                158\n",
       "               11                214\n",
       "               12                165\n",
       "2006.0         01                182\n",
       "               02                159\n",
       "               03                301\n",
       "               04                172\n",
       "               05                254\n",
       "               06                345\n",
       "               07                284\n",
       "               08                215\n",
       "               09                181\n",
       "               10                221\n",
       "               11                236\n",
       "               12                174\n",
       "2007.0         01                183\n",
       "               02                128\n",
       "               03                256\n",
       "               04                254\n",
       "               05                299\n",
       "               06                222\n",
       "               07                218\n",
       "               08                178\n",
       "               09                146\n",
       "               10                153\n",
       "               11                192\n",
       "               12                141\n",
       "2008.0         01                160\n",
       "               02                104\n",
       "               03                163\n",
       "               04                153\n",
       "               05                220\n",
       "               06                132\n",
       "               07                214\n",
       "               08                 89\n",
       "               09                107\n",
       "               10                 83\n",
       "               11                 34\n",
       "               12                 61\n",
       "2009.0         01                169\n",
       "               02                103\n",
       "               03                 96\n",
       "               04                135\n",
       "               05                104\n",
       "               06                144\n",
       "               07                 83\n",
       "               08                126\n",
       "               09                 72\n",
       "               10                 83\n",
       "               11                123\n",
       "               12                 63\n",
       "2010.0         01                 70\n",
       "               02                 55\n",
       "               03                113\n",
       "               04                 67\n",
       "               05                 76\n",
       "               06                 46\n",
       "               07                 63\n",
       "               08                 85\n",
       "               09                 47\n",
       "               10                 31\n",
       "               11                 61\n",
       "               12                 38\n",
       "2011.0         01                 34\n",
       "               02                 41\n",
       "               03                 56\n",
       "               04                 39\n",
       "               05                 56\n",
       "               06                 50\n",
       "               07                 26\n",
       "               08                 33\n",
       "               09                 27\n",
       "               10                 22\n",
       "               11                 39\n",
       "               12                 37\n",
       "2012.0         01                 35\n",
       "               02                 27\n",
       "               03                 46\n",
       "               04                 61\n",
       "               05                 41\n",
       "               06                 73\n",
       "               07                 37\n",
       "               08                 39\n",
       "               09                 56\n",
       "               10                 19\n",
       "               11                 42\n",
       "               12                 39\n",
       "2013.0         01                 34\n",
       "               02                 58\n",
       "               03                 64\n",
       "               04                 39\n",
       "               05                 48\n",
       "               06                 64\n",
       "               07                 31\n",
       "               08                 31\n",
       "               09                 41\n",
       "               10                 36\n",
       "               11                 23\n",
       "               12                 33\n",
       "2014.0         01                 27\n",
       "               02                 25\n",
       "               03                 70\n",
       "               04                 35\n",
       "               05                 54\n",
       "               06                116\n",
       "               07                 54\n",
       "               08                 32\n",
       "               09                 67\n",
       "               10                 24\n",
       "               11                 33\n",
       "               12                 40\n",
       "2015.0         01                 40\n",
       "               02                 21\n",
       "               03                 34\n",
       "               04                 66\n",
       "               05                 59\n",
       "               06                116\n",
       "               07                 54\n",
       "               08                 33\n",
       "               09                 50\n",
       "               10                 65\n",
       "               11                 59\n",
       "               12                 40\n",
       "2016.0         01                 44\n",
       "               02                 33\n",
       "               03                 76\n",
       "               04                 44\n",
       "               05                 61\n",
       "               06                 43\n",
       "               07                 24\n",
       "               08                 49\n",
       "               09                 46\n",
       "               10                 55\n",
       "               11                 67\n",
       "               12                 46\n",
       "2017.0         01                 31\n",
       "               02                 49\n",
       "               03                 61\n",
       "               04                 38\n",
       "               05                 91\n",
       "               06                 54\n",
       "               07                 56\n",
       "               08                 82\n",
       "               09                 85\n",
       "               10                 56\n",
       "               11                 56\n",
       "               12                 52\n",
       "2018.0         01                 75\n",
       "               02                 47\n",
       "               03                 62\n",
       "               04                 57\n",
       "               05                 79\n",
       "               06                 59\n",
       "               07                 48\n",
       "               08                 78\n",
       "               09                 51\n",
       "               10                 63\n",
       "               11                 69\n",
       "               12                 52\n",
       "2019.0         01                 53\n",
       "               02                 48\n",
       "               03                 66\n",
       "               04                 66\n",
       "               05                 75\n",
       "               06                 59\n",
       "               07                 49\n",
       "               08                 60\n",
       "               09                100\n",
       "               10                 43\n",
       "Name: Issuance Month, dtype: int64"
      ]
     },
     "execution_count": 33,
     "metadata": {},
     "output_type": "execute_result"
    }
   ],
   "source": [
    "data_by_year_and_month"
   ]
  },
  {
   "cell_type": "code",
   "execution_count": 34,
   "metadata": {},
   "outputs": [],
   "source": [
    "def get_meand_and_std(data):\n",
    "    years = np.arange (1990, 2020)\n",
    "    mean_std_bx_by_year = {}\n",
    "    for y in years:\n",
    "        d = data[y]\n",
    "        mean = d.mean()\n",
    "        std = d.std()\n",
    "        mean_std_bx_by_year[y] = {}\n",
    "        mean_std_bx_by_year[y][\"Mean\"] = mean\n",
    "        mean_std_bx_by_year[y][\"Std\"] = std \n",
    "    return mean_std_bx_by_year"
   ]
  },
  {
   "cell_type": "code",
   "execution_count": 35,
   "metadata": {},
   "outputs": [],
   "source": [
    "mean_std_bx_by_year_dict = get_meand_and_std(data_by_year_and_month)"
   ]
  },
  {
   "cell_type": "code",
   "execution_count": 36,
   "metadata": {},
   "outputs": [
    {
     "data": {
      "text/plain": [
       "{1990: {'Mean': 18.2, 'Std': 16.844385810510673},\n",
       " 1991: {'Mean': 63.25, 'Std': 59.444588407264554},\n",
       " 1992: {'Mean': 106.08333333333333, 'Std': 57.9740668251109},\n",
       " 1993: {'Mean': 88.83333333333333, 'Std': 80.82060193397285},\n",
       " 1994: {'Mean': 65.0, 'Std': 52.57548685634607},\n",
       " 1995: {'Mean': 59.75, 'Std': 47.87127626154426},\n",
       " 1996: {'Mean': 63.75, 'Std': 43.05202983283451},\n",
       " 1997: {'Mean': 53.833333333333336, 'Std': 38.20954981375333},\n",
       " 1998: {'Mean': 63.666666666666664, 'Std': 28.088604396973818},\n",
       " 1999: {'Mean': 60.75, 'Std': 38.131649941652505},\n",
       " 2000: {'Mean': 91.58333333333333, 'Std': 41.653240261022},\n",
       " 2001: {'Mean': 109.33333333333333, 'Std': 56.48705939228806},\n",
       " 2002: {'Mean': 119.25, 'Std': 42.04786233891953},\n",
       " 2003: {'Mean': 124.16666666666667, 'Std': 40.25110576309072},\n",
       " 2004: {'Mean': 159.41666666666666, 'Std': 73.81729082161188},\n",
       " 2005: {'Mean': 195.5, 'Std': 53.995791081763535},\n",
       " 2006: {'Mean': 227.0, 'Std': 58.95915381161621},\n",
       " 2007: {'Mean': 197.5, 'Std': 53.26861603745168},\n",
       " 2008: {'Mean': 126.66666666666667, 'Std': 57.69564869890864},\n",
       " 2009: {'Mean': 108.41666666666667, 'Std': 31.693011369968772},\n",
       " 2010: {'Mean': 62.666666666666664, 'Std': 22.317271474367246},\n",
       " 2011: {'Mean': 38.333333333333336, 'Std': 11.138249685682489},\n",
       " 2012: {'Mean': 42.916666666666664, 'Std': 14.681208355849964},\n",
       " 2013: {'Mean': 41.833333333333336, 'Std': 13.663709953631543},\n",
       " 2014: {'Mean': 48.083333333333336, 'Std': 26.630325616188813},\n",
       " 2015: {'Mean': 53.083333333333336, 'Std': 24.28414497094137},\n",
       " 2016: {'Mean': 49.0, 'Std': 14.199871958449613},\n",
       " 2017: {'Mean': 59.25, 'Std': 18.236452007399407},\n",
       " 2018: {'Mean': 61.666666666666664, 'Std': 11.436252829833677},\n",
       " 2019: {'Mean': 61.9, 'Std': 16.54925308821452}}"
      ]
     },
     "execution_count": 36,
     "metadata": {},
     "output_type": "execute_result"
    }
   ],
   "source": [
    "mean_std_bx_by_year_dict"
   ]
  },
  {
   "cell_type": "code",
   "execution_count": 37,
   "metadata": {},
   "outputs": [],
   "source": [
    "bx_means = []\n",
    "bx_std = []\n",
    "for i in mean_std_bx_by_year_dict.keys():\n",
    "    means = mean_std_bx_by_year_dict[i][\"Mean\"]\n",
    "    stds = mean_std_bx_by_year_dict[i][\"Std\"]\n",
    "    bx_means.append (means)\n",
    "    bx_std.append (stds)"
   ]
  },
  {
   "cell_type": "code",
   "execution_count": 38,
   "metadata": {},
   "outputs": [],
   "source": [
    "# The folling graph follows the central limit theorem probability of distribution, where the amount of new buildings\n",
    "# since 1990 in the bronx are divivided by year and then we get the aerage of new buildings per year, and \n",
    "# plot them in a histogram. "
   ]
  },
  {
   "cell_type": "code",
   "execution_count": 39,
   "metadata": {},
   "outputs": [],
   "source": [
    "bx_bar_index = np.arange(len (bx_means))"
   ]
  },
  {
   "cell_type": "code",
   "execution_count": 40,
   "metadata": {},
   "outputs": [
    {
     "data": {
      "text/plain": [
       "<BarContainer object of 30 artists>"
      ]
     },
     "execution_count": 40,
     "metadata": {},
     "output_type": "execute_result"
    },
    {
     "data": {
      "image/png": "[encoded data removed]",
      "text/plain": [
       "<Figure size 432x288 with 1 Axes>"
      ]
     },
     "metadata": {
      "needs_background": "light"
     },
     "output_type": "display_data"
    }
   ],
   "source": [
    "plt.bar (np.arange (1990, 2020), bx_means)"
   ]
  },
  {
   "cell_type": "code",
   "execution_count": 41,
   "metadata": {},
   "outputs": [],
   "source": [
    "from scipy.stats import norm"
   ]
  },
  {
   "cell_type": "code",
   "execution_count": 42,
   "metadata": {},
   "outputs": [
    {
     "data": {
      "text/plain": [
       "0.9999945874560923"
      ]
     },
     "execution_count": 42,
     "metadata": {},
     "output_type": "execute_result"
    }
   ],
   "source": [
    "norm.cdf (85, loc = 63, scale =5)"
   ]
  },
  {
   "cell_type": "code",
   "execution_count": 45,
   "metadata": {},
   "outputs": [
    {
     "name": "stdout",
     "output_type": "stream",
     "text": [
      "0.8931346144222905\n",
      "0.10686538557770958\n"
     ]
    }
   ],
   "source": [
    "# I have data for new buildings constructed in in the bronx since 1990 divided by year. \n",
    "# Each year has its own average and standard deviation. \n",
    "#With this information I can start making some Normal distribution calculations, such as:\n",
    "# The probability that a specific month has more, less or equal amount of new buildings using \"norm\" from scipy\n",
    "\n",
    "\n",
    "# For example, if I want to know the probability that in a randomly selected month in 1993, MORE THAN 34 buildings \n",
    "# were constructed, I would write:\n",
    "\n",
    "#P(xZ)\n",
    "\n",
    "print (1 - norm.cdf (34, loc = 106.08333333333333, scale =57.9740668251109 ))\n",
    "\n",
    "# If I want to know the probability that in 1992 in a randomly selected month LESS THAN 34 buildings were\n",
    "# constructed, I would write:\n",
    "\n",
    "\n",
    "print (norm.cdf (34, loc = 106.08333333333333, scale =57.9740668251109 ))\n"
   ]
  },
  {
   "cell_type": "code",
   "execution_count": 44,
   "metadata": {},
   "outputs": [
    {
     "data": {
      "text/plain": [
       "{1990: {'Mean': 18.2, 'Std': 16.844385810510673},\n",
       " 1991: {'Mean': 63.25, 'Std': 59.444588407264554},\n",
       " 1992: {'Mean': 106.08333333333333, 'Std': 57.9740668251109},\n",
       " 1993: {'Mean': 88.83333333333333, 'Std': 80.82060193397285},\n",
       " 1994: {'Mean': 65.0, 'Std': 52.57548685634607},\n",
       " 1995: {'Mean': 59.75, 'Std': 47.87127626154426},\n",
       " 1996: {'Mean': 63.75, 'Std': 43.05202983283451},\n",
       " 1997: {'Mean': 53.833333333333336, 'Std': 38.20954981375333},\n",
       " 1998: {'Mean': 63.666666666666664, 'Std': 28.088604396973818},\n",
       " 1999: {'Mean': 60.75, 'Std': 38.131649941652505},\n",
       " 2000: {'Mean': 91.58333333333333, 'Std': 41.653240261022},\n",
       " 2001: {'Mean': 109.33333333333333, 'Std': 56.48705939228806},\n",
       " 2002: {'Mean': 119.25, 'Std': 42.04786233891953},\n",
       " 2003: {'Mean': 124.16666666666667, 'Std': 40.25110576309072},\n",
       " 2004: {'Mean': 159.41666666666666, 'Std': 73.81729082161188},\n",
       " 2005: {'Mean': 195.5, 'Std': 53.995791081763535},\n",
       " 2006: {'Mean': 227.0, 'Std': 58.95915381161621},\n",
       " 2007: {'Mean': 197.5, 'Std': 53.26861603745168},\n",
       " 2008: {'Mean': 126.66666666666667, 'Std': 57.69564869890864},\n",
       " 2009: {'Mean': 108.41666666666667, 'Std': 31.693011369968772},\n",
       " 2010: {'Mean': 62.666666666666664, 'Std': 22.317271474367246},\n",
       " 2011: {'Mean': 38.333333333333336, 'Std': 11.138249685682489},\n",
       " 2012: {'Mean': 42.916666666666664, 'Std': 14.681208355849964},\n",
       " 2013: {'Mean': 41.833333333333336, 'Std': 13.663709953631543},\n",
       " 2014: {'Mean': 48.083333333333336, 'Std': 26.630325616188813},\n",
       " 2015: {'Mean': 53.083333333333336, 'Std': 24.28414497094137},\n",
       " 2016: {'Mean': 49.0, 'Std': 14.199871958449613},\n",
       " 2017: {'Mean': 59.25, 'Std': 18.236452007399407},\n",
       " 2018: {'Mean': 61.666666666666664, 'Std': 11.436252829833677},\n",
       " 2019: {'Mean': 61.9, 'Std': 16.54925308821452}}"
      ]
     },
     "execution_count": 44,
     "metadata": {},
     "output_type": "execute_result"
    }
   ],
   "source": [
    "mean_std_bx_by_year_dict"
   ]
  },
  {
   "cell_type": "code",
   "execution_count": 46,
   "metadata": {},
   "outputs": [
    {
     "name": "stdout",
     "output_type": "stream",
     "text": [
      "0.003176671506717949\n"
     ]
    }
   ],
   "source": [
    "print (norm.pdf (34, loc = 106.08333333333333, scale =57.9740668251109 ))"
   ]
  },
  {
   "cell_type": "code",
   "execution_count": null,
   "metadata": {},
   "outputs": [],
   "source": []
  },
  {
   "cell_type": "code",
   "execution_count": null,
   "metadata": {},
   "outputs": [],
   "source": []
  },
  {
   "cell_type": "code",
   "execution_count": null,
   "metadata": {},
   "outputs": [],
   "source": []
  },
  {
   "cell_type": "code",
   "execution_count": null,
   "metadata": {},
   "outputs": [],
   "source": []
  },
  {
   "cell_type": "code",
   "execution_count": null,
   "metadata": {},
   "outputs": [],
   "source": []
  },
  {
   "cell_type": "code",
   "execution_count": null,
   "metadata": {},
   "outputs": [],
   "source": []
  }
 ],
 "metadata": {
  "kernelspec": {
   "display_name": "Python 3",
   "language": "python",
   "name": "python3"
  },
  "language_info": {
   "codemirror_mode": {
    "name": "ipython",
    "version": 3
   },
   "file_extension": ".py",
   "mimetype": "text/x-python",
   "name": "python",
   "nbconvert_exporter": "python",
   "pygments_lexer": "ipython3",
   "version": "3.7.4"
  }
 },
 "nbformat": 4,
 "nbformat_minor": 2
}
